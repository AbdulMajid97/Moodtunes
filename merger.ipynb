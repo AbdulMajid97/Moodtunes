{
 "cells": [
  {
   "cell_type": "code",
   "execution_count": 5,
   "metadata": {},
   "outputs": [],
   "source": [
    "import pandas as pd\n",
    "\n",
    "# Load both CSVs into pandas DataFrames\n",
    "merged = pd.read_csv('merged.csv')\n",
    "urls = pd.read_csv('urls.csv', header=None, names=['URL'])\n",
    "\n",
    "# Extract the song number from the URL\n",
    "urls['file_name'] = urls['URL'].apply(lambda x: x.split('/')[-1].split('?')[0])\n",
    "\n",
    "# Remove leading/trailing spaces\n",
    "merged['file_name'] = merged['file_name'].str.strip()\n",
    "\n",
    "# Merge the two DataFrames on file_name\n",
    "merged = pd.merge(merged, urls, on='file_name')\n",
    "\n",
    "# Save the merged DataFrame to a new CSV\n",
    "merged.to_csv('merged.csv', index=False)\n"
   ]
  },
  {
   "cell_type": "code",
   "execution_count": null,
   "metadata": {},
   "outputs": [],
   "source": []
  }
 ],
 "metadata": {
  "kernelspec": {
   "display_name": "Python 3",
   "language": "python",
   "name": "python3"
  },
  "language_info": {
   "codemirror_mode": {
    "name": "ipython",
    "version": 3
   },
   "file_extension": ".py",
   "mimetype": "text/x-python",
   "name": "python",
   "nbconvert_exporter": "python",
   "pygments_lexer": "ipython3",
   "version": "3.10.11"
  },
  "orig_nbformat": 4
 },
 "nbformat": 4,
 "nbformat_minor": 2
}
